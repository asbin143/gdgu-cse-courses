{
 "cells": [
  {
   "cell_type": "code",
   "execution_count": 21,
   "metadata": {},
   "outputs": [],
   "source": [
    "array=[12,11,13,5,6]\n"
   ]
  },
  {
   "cell_type": "code",
   "execution_count": 22,
   "metadata": {},
   "outputs": [],
   "source": [
    "def bubble_sort_function(array):\n",
    "    best_flag=True\n",
    "    for i in range(len(array)):\n",
    "        for j in range(0,len(array)-i-1):\n",
    "            '''if current value is more than next value \n",
    "               Swap their location '''\n",
    "            if array[j] > array[j+1] :\n",
    "                best_flag=False\n",
    "                '''swaping values'''\n",
    "                array[j], array[j+1] = array[j+1], array[j]\n",
    "        if best_flag == True:\n",
    "                print(\"Array is already Sorted Thus making it Best case Complexity : O(n)\")\n",
    "                break"
   ]
  },
  {
   "cell_type": "code",
   "execution_count": 23,
   "metadata": {},
   "outputs": [
    {
     "name": "stdout",
     "output_type": "stream",
     "text": [
      "[5, 6, 11, 12, 13]\n"
     ]
    }
   ],
   "source": [
    "'''Calling bubble sort Function and passing array as argument/parameter'''\n",
    "bubble_sort_function(array)\n",
    "'''Print array to show the action on performed by bubble sort'''\n",
    "print(array)"
   ]
  },
  {
   "cell_type": "code",
   "execution_count": 25,
   "metadata": {},
   "outputs": [],
   "source": [
    "'''Insertion Sort Function'''\n",
    "def insertion_sort_function(array):\n",
    "    new_array=[]\n",
    "    length=len(array)\n",
    "    best_case_flag=True\n",
    "    for i in range(length):\n",
    "        for j in range(0,length-i-1):\n",
    "            if array[j] > array[j+1] :\n",
    "                best_case_flag=False\n",
    "                '''Pushing Value in other array'''\n",
    "                new_array[i]=array[j]\n",
    "        if best_case_flag == True:\n",
    "                print(\"Array Passed in Insertion Sort Function\\\n",
    "                is already Sorted Thus making it Best case Complexity : O(n)\")\n",
    "                break\n"
   ]
  }
 ],
 "metadata": {
  "kernelspec": {
   "display_name": "Python 3",
   "language": "python",
   "name": "python3"
  },
  "language_info": {
   "codemirror_mode": {
    "name": "ipython",
    "version": 3
   },
   "file_extension": ".py",
   "mimetype": "text/x-python",
   "name": "python",
   "nbconvert_exporter": "python",
   "pygments_lexer": "ipython3",
   "version": "3.6.8"
  }
 },
 "nbformat": 4,
 "nbformat_minor": 2
}
