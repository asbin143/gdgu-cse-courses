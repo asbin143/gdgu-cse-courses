{
 "cells": [
  {
   "cell_type": "code",
   "execution_count": 1,
   "metadata": {},
   "outputs": [],
   "source": [
    "def bubble_sort_function(array):\n",
    "    best_flag=True\n",
    "    for i in range(len(array)):\n",
    "        for j in range(0,len(array)-i-1):\n",
    "            '''if current value is more than next value \n",
    "               Swap their location '''\n",
    "            if array[j] > array[j+1] :\n",
    "                best_flag=False\n",
    "                '''swaping values'''\n",
    "                array[j], array[j+1] = array[j+1], array[j]\n",
    "        if best_flag == True:\n",
    "                print(\"Array is already Sorted Thus making it Best case Complexity : O(n)\")\n",
    "                break"
   ]
  },
  {
   "cell_type": "code",
   "execution_count": 2,
   "metadata": {},
   "outputs": [
    {
     "name": "stdout",
     "output_type": "stream",
     "text": [
      "[5, 6, 11, 12, 13]\n"
     ]
    }
   ],
   "source": [
    "array=[12,11,13,5,6]\n",
    "'''Calling bubble sort Function and passing array as argument/parameter'''\n",
    "bubble_sort_function(array)\n",
    "'''Print array to show the action on performed by bubble sort'''\n",
    "print(array)"
   ]
  },
  {
   "cell_type": "code",
   "execution_count": 3,
   "metadata": {},
   "outputs": [],
   "source": [
    "'''Insertion Sort Function'''\n",
    "def insertion_sort_function(array):\n",
    "    best_case_flag=True\n",
    "    for i in range(1,len(array)):\n",
    "        currentvalue = array[i]\n",
    "        position = i\n",
    "        while position>0 and array[position-1]>currentvalue:\n",
    "            best_case_flag=False\n",
    "            array[position]=array[position-1]\n",
    "            position = position-1\n",
    "            array[position]=currentvalue\n",
    "        \n",
    "        if best_case_flag == True:\n",
    "                print(\"Array Passed in Insertion Sort Function\\\n",
    " is already Sorted Thus making it Best case Complexity : O(n)\")\n",
    "                break\n"
   ]
  },
  {
   "cell_type": "code",
   "execution_count": 4,
   "metadata": {},
   "outputs": [],
   "source": [
    "array2=[12,34,6,87,4,2,66,87,64,4,6]\n"
   ]
  },
  {
   "cell_type": "code",
   "execution_count": 5,
   "metadata": {},
   "outputs": [
    {
     "name": "stdout",
     "output_type": "stream",
     "text": [
      "Array Passed in Insertion Sort Function is already Sorted Thus making it Best case Complexity : O(n)\n",
      "[12, 34, 6, 87, 4, 2, 66, 87, 64, 4, 6]\n"
     ]
    }
   ],
   "source": [
    "'''Calling insertion sort Function and passing array2 as argument/parameter'''\n",
    "insertion_sort_function(array2)\n",
    "print(array2)"
   ]
  },
  {
   "cell_type": "code",
   "execution_count": 8,
   "metadata": {},
   "outputs": [
    {
     "name": "stdout",
     "output_type": "stream",
     "text": [
      "Sorted array\n",
      "[11, 12, 22, 25, 64]\n",
      "11\n",
      "12\n",
      "22\n",
      "25\n",
      "64\n"
     ]
    }
   ],
   "source": [
    "# Selection sort\n",
    "A = [64, 25, 12, 22, 11] \n",
    "  \n",
    "# Traverse through all array elements \n",
    "for i in range(len(A)):\n",
    "\n",
    "    # Find the minimum element in remaining  \n",
    "    # unsorted array\n",
    "    min_index = i \n",
    "    for j in range(i+1, len(A)): \n",
    "        if A[min_index] > A[j]: \n",
    "            min_index = j \n",
    "              \n",
    "    # Swap the found minimum element with  \n",
    "    # the first element         \n",
    "    A[i], A[min_index] = A[min_index], A[i] \n",
    "  \n",
    "\n",
    "'''Calling A array after actions''' \n",
    "print (\"Sorted array\") \n",
    "print(A)\n",
    "for i in range(len(A)): \n",
    "    print(\"%d\" %A[i]),  "
   ]
  },
  {
   "cell_type": "code",
   "execution_count": null,
   "metadata": {},
   "outputs": [],
   "source": []
  }
 ],
 "metadata": {
  "kernelspec": {
   "display_name": "Python 3",
   "language": "python",
   "name": "python3"
  },
  "language_info": {
   "codemirror_mode": {
    "name": "ipython",
    "version": 3
   },
   "file_extension": ".py",
   "mimetype": "text/x-python",
   "name": "python",
   "nbconvert_exporter": "python",
   "pygments_lexer": "ipython3",
   "version": "3.6.8"
  }
 },
 "nbformat": 4,
 "nbformat_minor": 2
}
