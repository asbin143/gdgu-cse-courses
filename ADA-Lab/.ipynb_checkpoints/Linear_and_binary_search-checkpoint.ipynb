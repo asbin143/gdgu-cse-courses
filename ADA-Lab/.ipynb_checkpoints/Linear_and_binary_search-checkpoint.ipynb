{
 "cells": [
  {
   "cell_type": "code",
   "execution_count": 21,
   "metadata": {},
   "outputs": [],
   "source": [
    "#linear search program\n",
    "array= [9,8,2,5,6,8,55,78,53,67,8]\n",
    "def linear_search(search):\n",
    "    for i in range(len(array)):\n",
    "        if(array[i] == search):\n",
    "            print(search ,\"found @\" , i+1)\n",
    "        else: continue"
   ]
  },
  {
   "cell_type": "code",
   "execution_count": 27,
   "metadata": {},
   "outputs": [
    {
     "name": "stdout",
     "output_type": "stream",
     "text": [
      "[2, 5, 6, 8, 8, 8, 9, 53, 55, 67, 78]\n",
      "8 found @ 4\n",
      "8 found @ 5\n",
      "8 found @ 6\n"
     ]
    }
   ],
   "source": [
    "print(sorted(array))\n",
    "linear_search(8)"
   ]
  },
  {
   "cell_type": "code",
   "execution_count": 61,
   "metadata": {},
   "outputs": [],
   "source": [
    "#binary search program\n",
    "array2= [9,38,2,5,6,18,55,78,53,8,67]\n",
    "def binary_search(find):\n",
    "    found=0\n",
    "    sort_array=sorted(array2)\n",
    "    #mid=len(sort_array)/2\n",
    "    first=False\n",
    "    last=len(sort_array)-1\n",
    "    print(sort_array)\n",
    "    for i in range(len(sort_array)):\n",
    "        mid = (first+last)//2\n",
    "        if (sort_array[mid]==find):\n",
    "            found=True\n",
    "            print(find ,\"found @ of sorted array\" , mid+1)\n",
    "        elif sort_array[mid]>find:\n",
    "            #going to left\n",
    "            last = mid-1\n",
    "        elif sort_array[mid]<find:\n",
    "            #going to right\n",
    "            first= mid+1\n",
    "        elif found==False:\n",
    "            print(\"Not found\")\n",
    "    if found==False:\n",
    "        print(\"Not found\")"
   ]
  },
  {
   "cell_type": "code",
   "execution_count": 63,
   "metadata": {},
   "outputs": [
    {
     "name": "stdout",
     "output_type": "stream",
     "text": [
      "[2, 5, 6, 8, 9, 18, 38, 53, 55, 67, 78]\n",
      "9 found @ of sorted array 5\n",
      "9 found @ of sorted array 5\n",
      "9 found @ of sorted array 5\n",
      "9 found @ of sorted array 5\n",
      "9 found @ of sorted array 5\n",
      "9 found @ of sorted array 5\n",
      "9 found @ of sorted array 5\n",
      "9 found @ of sorted array 5\n"
     ]
    }
   ],
   "source": [
    "binary_search(9)"
   ]
  },
  {
   "cell_type": "code",
   "execution_count": null,
   "metadata": {},
   "outputs": [],
   "source": []
  }
 ],
 "metadata": {
  "kernelspec": {
   "display_name": "Python 3",
   "language": "python",
   "name": "python3"
  },
  "language_info": {
   "codemirror_mode": {
    "name": "ipython",
    "version": 3
   },
   "file_extension": ".py",
   "mimetype": "text/x-python",
   "name": "python",
   "nbconvert_exporter": "python",
   "pygments_lexer": "ipython3",
   "version": "3.6.8"
  }
 },
 "nbformat": 4,
 "nbformat_minor": 2
}
