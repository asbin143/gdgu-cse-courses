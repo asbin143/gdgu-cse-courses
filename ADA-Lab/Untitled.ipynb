{
 "cells": [
  {
   "cell_type": "code",
   "execution_count": 2,
   "metadata": {},
   "outputs": [],
   "source": [
    "\n",
    "from collections import deque\n",
    "q = deque()\n",
    "\n",
    "q.append('eat')\n",
    "q.append('sleep')\n",
    "q.append('code')\n",
    "\n"
   ]
  },
  {
   "cell_type": "code",
   "execution_count": 3,
   "metadata": {},
   "outputs": [
    {
     "name": "stdout",
     "output_type": "stream",
     "text": [
      "deque(['eat', 'sleep', 'code'])\n"
     ]
    }
   ],
   "source": [
    "print(q)"
   ]
  },
  {
   "cell_type": "code",
   "execution_count": 27,
   "metadata": {},
   "outputs": [],
   "source": [
    "# create a vertex class using adjecency list\n",
    "class Vertex:\n",
    "    def __init__(self, n):\n",
    "        self.name = n\n",
    "        self.neighbors = list()\n",
    "\n",
    "        self.distance = 9999\n",
    "        self.color = 'black'\n",
    "\n",
    "    def add_neighbor(self, v):\n",
    "        if v not in self.neighbors:\n",
    "            self.neighbors.append(v)\n",
    "            self.neighbors.sort()\n"
   ]
  },
  {
   "cell_type": "code",
   "execution_count": 64,
   "metadata": {},
   "outputs": [],
   "source": [
    "class Graph:\n",
    "    vertices = {}\n",
    "    \n",
    "    def add_vertex(self, vertex):\n",
    "        if isinstance(vertex, Vertex) and vertex.name not in self.vertices:\n",
    "            self.vertices[vertex.name] = vertex\n",
    "            return True\n",
    "        else:\n",
    "            return False\n",
    "        \n",
    "    def add_edge(self, u, v):\n",
    "        if u in self.vertices and v in self.vertices:\n",
    "            for key, value in self.vertices.items():\n",
    "                if key == u:\n",
    "                    value.add_neighbor(v)\n",
    "                if key == v:\n",
    "                    value.add_neighbor(u)\n",
    "            return True\n",
    "        else:\n",
    "            return False\n",
    "    def print_graph(self):\n",
    "        for key in sorted(list(self.vertices.keys())):\n",
    "            print(key + str(self.vertices[key].neighbors) + \"  \" + str(self.vertices[key].distance))    "
   ]
  },
  {
   "cell_type": "code",
   "execution_count": 65,
   "metadata": {},
   "outputs": [
    {
     "name": "stdout",
     "output_type": "stream",
     "text": [
      "A['B', 'E']  9999\n",
      "B['A', 'F']  9999\n",
      "C['G']  9999\n",
      "D['E', 'H']  9999\n",
      "E['A', 'D', 'H']  9999\n",
      "F['B', 'G', 'I', 'J']  9999\n",
      "G['C', 'F', 'J']  9999\n",
      "H['D', 'E', 'I']  9999\n",
      "I['F', 'H']  9999\n",
      "J['F', 'G']  9999\n"
     ]
    }
   ],
   "source": [
    "g = Graph()\n",
    "# a = Vertex('A')\n",
    "# b = Vertex('B')\n",
    "# g.add_vertex(a)\n",
    "# g.add_vertex(b)\n",
    "# # no need to write same thing over and over again \n",
    "# g.add_vertex(Vertex('B'))\n",
    "\n",
    "'''making 10 vertexs named A to J '''\n",
    "for i in range(ord('A'), ord('K')):\n",
    "    g.add_vertex(Vertex(chr(i)))\n",
    "    \n",
    "edges = ['AB', 'AE', 'BF', 'CG', 'DE', 'DH', 'EH', 'FG', 'FI', 'FJ', 'GJ', 'HI']    \n",
    "for edge in edges:\n",
    "    g.add_edge(edge[:1], edge[1:])\n",
    "\n",
    "#g.bfs(a)\n",
    "g.print_graph()\n"
   ]
  },
  {
   "cell_type": "code",
   "execution_count": 66,
   "metadata": {},
   "outputs": [
    {
     "data": {
      "text/plain": [
       "['B', 'E']"
      ]
     },
     "execution_count": 66,
     "metadata": {},
     "output_type": "execute_result"
    }
   ],
   "source": [
    "g.vertices['A'].neighbors"
   ]
  },
  {
   "cell_type": "code",
   "execution_count": 38,
   "metadata": {},
   "outputs": [
    {
     "data": {
      "text/plain": [
       "['acsh', 'rohit']"
      ]
     },
     "execution_count": 38,
     "metadata": {},
     "output_type": "execute_result"
    }
   ],
   "source": [
    "V1.neighbors"
   ]
  },
  {
   "cell_type": "code",
   "execution_count": 11,
   "metadata": {},
   "outputs": [
    {
     "name": "stdout",
     "output_type": "stream",
     "text": [
      "John\n",
      "36\n"
     ]
    }
   ],
   "source": [
    "class Person:\n",
    "    def __init__(self, name, age):\n",
    "        self.name = name\n",
    "        self.age = age\n",
    "\n",
    "p1 = Person(\"John\", 36)\n"
   ]
  },
  {
   "cell_type": "code",
   "execution_count": null,
   "metadata": {},
   "outputs": [],
   "source": [
    "# counting sort\n",
    "def counting_sort(array1, max_val):\n",
    "    m = max_val + 1\n",
    "    count = [0] * m                \n",
    "    \n",
    "    '''Counting occurences of each element in array'''\n",
    "    for a in array1:\n",
    "    # count occurences\n",
    "        count[a] += 1\n",
    "    '''Instance of counter array after count'''    \n",
    "    print(\"Pointer :\" , list(range(0, m)))\n",
    "    print(\"Counter :\",count)\n",
    "    \n",
    "    i = 0\n",
    "    \n",
    "    for a in range(m):\n",
    "        print(\"----------outer iter-------- :\",a)\n",
    "        for c in range(count[a]):\n",
    "            print(\"inner iter :\",c)\n",
    "            array1[i] = a\n",
    "            print(array1[i])\n",
    "            i += 1\n",
    "    print(\"---------Sorted Array--------\")        \n",
    "    return array1\n",
    "\n",
    "print(counting_sort( [1,4,1,2,4,4], 4))"
   ]
  },
  {
   "cell_type": "code",
   "execution_count": null,
   "metadata": {},
   "outputs": [],
   "source": [
    "def radix_sort(alist, base=10):\n",
    "    if alist == []:\n",
    "        return\n",
    " \n",
    "    def key_factory(digit, base):\n",
    "        def key(alist, index):\n",
    "            return ((alist[index]//(base**digit)) % base)\n",
    "        return key\n",
    "    largest = max(alist)\n",
    "    exp = 0\n",
    "    while base**exp <= largest:\n",
    "        alist = counting_sort(alist, base - 1, key_factory(exp, base))\n",
    "        exp = exp + 1\n",
    "    return alist"
   ]
  },
  {
   "cell_type": "code",
   "execution_count": null,
   "metadata": {},
   "outputs": [],
   "source": [
    "def counting_sort(alist, largest, key):\n",
    "    c = [0]*(largest + 1)\n",
    "    for i in range(len(alist)):\n",
    "        c[key(alist, i)] = c[key(alist, i)] + 1\n",
    " \n",
    "    # Find the last index for each element\n",
    "    c[0] = c[0] - 1 # to decrement each element for zero-based indexing\n",
    "    for i in range(1, largest + 1):\n",
    "        c[i] = c[i] + c[i - 1]\n",
    " \n",
    "    result = [None]*len(alist)\n",
    "    for i in range(len(alist) - 1, -1, -1):\n",
    "        result[c[key(alist, i)]] = alist[i]\n",
    "        c[key(alist, i)] = c[key(alist, i)] - 1\n",
    " \n",
    "    return result"
   ]
  },
  {
   "cell_type": "code",
   "execution_count": 1,
   "metadata": {},
   "outputs": [
    {
     "name": "stdout",
     "output_type": "stream",
     "text": [
      "A['B', 'E']  0\n",
      "B['A', 'F']  1\n",
      "C['G']  4\n",
      "D['E', 'H']  2\n",
      "E['A', 'D', 'H']  1\n",
      "F['B', 'G', 'I', 'J']  2\n",
      "G['C', 'F', 'J']  3\n",
      "H['D', 'E', 'I']  2\n",
      "I['F', 'H']  3\n",
      "J['F', 'G']  3\n"
     ]
    }
   ],
   "source": [
    "class Vertex:\n",
    "\tdef __init__(self, n):\n",
    "\t\tself.name = n\n",
    "\t\tself.neighbors = list()\n",
    "\t\t\n",
    "\t\tself.distance = 9999\n",
    "\t\tself.color = 'black'\n",
    "\t\n",
    "\tdef add_neighbor(self, v):\n",
    "\t\tif v not in self.neighbors:\n",
    "\t\t\tself.neighbors.append(v)\n",
    "\t\t\tself.neighbors.sort()\n",
    "\n",
    "class Graph:\n",
    "\tvertices = {}\n",
    "\t\n",
    "\tdef add_vertex(self, vertex):\n",
    "\t\tif isinstance(vertex, Vertex) and vertex.name not in self.vertices:\n",
    "\t\t\tself.vertices[vertex.name] = vertex\n",
    "\t\t\treturn True\n",
    "\t\telse:\n",
    "\t\t\treturn False\n",
    "\t\n",
    "\tdef add_edge(self, u, v):\n",
    "\t\tif u in self.vertices and v in self.vertices:\n",
    "\t\t\tfor key, value in self.vertices.items():\n",
    "\t\t\t\tif key == u:\n",
    "\t\t\t\t\tvalue.add_neighbor(v)\n",
    "\t\t\t\tif key == v:\n",
    "\t\t\t\t\tvalue.add_neighbor(u)\n",
    "\t\t\treturn True\n",
    "\t\telse:\n",
    "\t\t\treturn False\n",
    "\t\t\t\n",
    "\tdef print_graph(self):\n",
    "\t\tfor key in sorted(list(self.vertices.keys())):\n",
    "\t\t\tprint(key + str(self.vertices[key].neighbors) + \"  \" + str(self.vertices[key].distance))\n",
    "\t\t\n",
    "\tdef bfs(self, vert):\n",
    "\t\tq = list()\n",
    "\t\tvert.distance = 0\n",
    "\t\tvert.color = 'red'\n",
    "\t\tfor v in vert.neighbors:\n",
    "\t\t\tself.vertices[v].distance = vert.distance + 1\n",
    "\t\t\tq.append(v)\n",
    "\t\t\n",
    "\t\twhile len(q) > 0:\n",
    "\t\t\tu = q.pop(0)\n",
    "\t\t\tnode_u = self.vertices[u]\n",
    "\t\t\tnode_u.color = 'red'\n",
    "\t\t\t\n",
    "\t\t\tfor v in node_u.neighbors:\n",
    "\t\t\t\tnode_v = self.vertices[v]\n",
    "\t\t\t\tif node_v.color == 'black':\n",
    "\t\t\t\t\tq.append(v)\n",
    "\t\t\t\t\tif node_v.distance > node_u.distance + 1:\n",
    "\t\t\t\t\t\tnode_v.distance = node_u.distance + 1\n",
    "\t\t\t\t\t\n",
    "g = Graph()\n",
    "a = Vertex('A')\n",
    "g.add_vertex(a)\n",
    "g.add_vertex(Vertex('B'))\n",
    "\n",
    "for i in range(ord('A'), ord('K')):\n",
    "\tg.add_vertex(Vertex(chr(i)))\n",
    "\n",
    "edges = ['AB', 'AE', 'BF', 'CG', 'DE', 'DH', 'EH', 'FG', 'FI', 'FJ', 'GJ', 'HI']\n",
    "for edge in edges:\n",
    "\tg.add_edge(edge[:1], edge[1:])\n",
    "\t\n",
    "g.bfs(a)\n",
    "g.print_graph()"
   ]
  },
  {
   "cell_type": "code",
   "execution_count": 67,
   "metadata": {},
   "outputs": [
    {
     "data": {
      "text/html": [
       "<div id=\"graph-336ad533-f45e-48a4-b3e6-f2feb745449f\"></div>\n",
       "           <script type=\"text/javascript\">\n",
       "           require.config({baseUrl: '/',\n",
       "                             paths: {jgraph: ['nbextensions/jgraph.min', 'https://rawgit.com/patrickfuller/jgraph/master/js/build/jgraph.min']}});\n",
       "           require(['jgraph'], function () {\n",
       "               var $d = $('#graph-336ad533-f45e-48a4-b3e6-f2feb745449f');\n",
       "               $d.width(600); $d.height(400);\n",
       "               $d.jgraph = jQuery.extend({}, jgraph);\n",
       "               $d.jgraph.create($d, {nodeSize: 2.000000,\n",
       "                                     edgeSize: 0.250000,\n",
       "                                     defaultNodeColor: '0x5bc0de',\n",
       "                                     defaultEdgeColor: '0xaaaaaa',\n",
       "                                     shader: 'basic',\n",
       "                                     z: 100,\n",
       "                                     runOptimization: true,\n",
       "                                     directed: true,\n",
       "                                     showSave: false});\n",
       "               $d.jgraph.draw({\n",
       "    \"edges\": [\n",
       "        { \"source\": 0, \"target\": 1 },\n",
       "        { \"source\": 0, \"target\": 6 },\n",
       "        { \"source\": 0, \"target\": 8 },\n",
       "        { \"source\": 1, \"target\": 4 },\n",
       "        { \"source\": 1, \"target\": 6 },\n",
       "        { \"source\": 1, \"target\": 9 },\n",
       "        { \"source\": 2, \"target\": 4 },\n",
       "        { \"source\": 2, \"target\": 6 },\n",
       "        { \"source\": 3, \"target\": 4 },\n",
       "        { \"source\": 3, \"target\": 5 },\n",
       "        { \"source\": 3, \"target\": 8 },\n",
       "        { \"source\": 4, \"target\": 5 },\n",
       "        { \"source\": 4, \"target\": 9 },\n",
       "        { \"source\": 7, \"target\": 8 },\n",
       "        { \"source\": 7, \"target\": 9 }\n",
       "    ],\n",
       "    \"nodes\": {\n",
       "        \"0\": { \"location\": [ -2.0, -2.0, -2.0 ] },\n",
       "        \"1\": { \"location\": [ -2.0, -2.0, -2.0 ] },\n",
       "        \"2\": { \"location\": [ -2.0, -2.0, -2.0 ] },\n",
       "        \"3\": { \"location\": [ -2.0, -1.794676483176143, -1.452057492259846 ] },\n",
       "        \"4\": { \"location\": [ -0.538205073762898, -0.280346301659012, -0.8264648058189475 ] },\n",
       "        \"5\": { \"location\": [ 0.8708229691138369, 0.22041977481542901, 0.6877318878037294 ] },\n",
       "        \"6\": { \"location\": [ 1.4730449937698358, 2.0, 1.4241947260558292 ] },\n",
       "        \"7\": { \"location\": [ 2.0, 2.0, 2.0 ] },\n",
       "        \"8\": { \"location\": [ 2.0, 2.0, 2.0 ] },\n",
       "        \"9\": { \"location\": [ 2.0, 2.0, 2.0 ] }\n",
       "    }\n",
       "});\n",
       "\n",
       "               $d.resizable({\n",
       "                   aspectRatio: 600 / 400,\n",
       "                   resize: function (evt, ui) {\n",
       "                       $d.jgraph.renderer.setSize(ui.size.width,\n",
       "                                                  ui.size.height);\n",
       "                   }\n",
       "               });\n",
       "           });\n",
       "           </script>"
      ],
      "text/plain": [
       "<IPython.core.display.HTML object>"
      ]
     },
     "metadata": {},
     "output_type": "display_data"
    }
   ],
   "source": [
    "import jgraph\n",
    "jgraph.draw([ [0,1], [0,6], [0,8], [1,4], [1,6], [1,9], [2,4], [2,6], [3,4], [3,5],\n",
    "[3,8], [4,5], [4,9], [7,8], [7,9] ])"
   ]
  }
 ],
 "metadata": {
  "kernelspec": {
   "display_name": "Python 3",
   "language": "python",
   "name": "python3"
  },
  "language_info": {
   "codemirror_mode": {
    "name": "ipython",
    "version": 3
   },
   "file_extension": ".py",
   "mimetype": "text/x-python",
   "name": "python",
   "nbconvert_exporter": "python",
   "pygments_lexer": "ipython3",
   "version": "3.6.8"
  }
 },
 "nbformat": 4,
 "nbformat_minor": 2
}
