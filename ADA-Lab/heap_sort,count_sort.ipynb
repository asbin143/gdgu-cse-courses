{
 "cells": [
  {
   "cell_type": "code",
   "execution_count": 31,
   "metadata": {},
   "outputs": [
    {
     "name": "stdout",
     "output_type": "stream",
     "text": [
      "Pointer : [0, 1, 2, 3, 4]\n",
      "Counter : [0, 2, 1, 0, 3]\n",
      "----------outer iter-------- : 0\n",
      "----------outer iter-------- : 1\n",
      "inner iter : 0\n",
      "1\n",
      "inner iter : 1\n",
      "1\n",
      "----------outer iter-------- : 2\n",
      "inner iter : 0\n",
      "2\n",
      "----------outer iter-------- : 3\n",
      "----------outer iter-------- : 4\n",
      "inner iter : 0\n",
      "4\n",
      "inner iter : 1\n",
      "4\n",
      "inner iter : 2\n",
      "4\n",
      "---------Sorted Array--------\n",
      "[1, 1, 2, 4, 4, 4]\n"
     ]
    }
   ],
   "source": [
    "# counting sort\n",
    "def counting_sort(array1, max_val):\n",
    "    m = max_val + 1\n",
    "    count = [0] * m                \n",
    "    \n",
    "    '''Counting occurences of each element in array'''\n",
    "    for a in array1:\n",
    "    # count occurences\n",
    "        count[a] += 1\n",
    "    '''Instance of counter array after count'''    \n",
    "    print(\"Pointer :\" , list(range(0, m)))\n",
    "    print(\"Counter :\",count)\n",
    "    \n",
    "    i = 0\n",
    "    \n",
    "    for a in range(m):\n",
    "        print(\"----------outer iter-------- :\",a)\n",
    "        for c in range(count[a]):\n",
    "            print(\"inner iter :\",c)\n",
    "            array1[i] = a\n",
    "            print(array1[i])\n",
    "            i += 1\n",
    "    print(\"---------Sorted Array--------\")        \n",
    "    return array1\n",
    "\n",
    "print(counting_sort( [1,4,1,2,4,4], 4))"
   ]
  },
  {
   "cell_type": "code",
   "execution_count": 34,
   "metadata": {},
   "outputs": [
    {
     "name": "stdout",
     "output_type": "stream",
     "text": [
      "-----------------------\n",
      "Sorted array is\n",
      "5\n",
      "6\n",
      "7\n",
      "11\n",
      "13\n",
      "12\n"
     ]
    }
   ],
   "source": [
    "def heapify(arr, n, i):\n",
    "    # Find largest among root and children\n",
    "    largest = i\n",
    "    l = 2 * i + 1\n",
    "    r = 2 * i + 2 \n",
    " \n",
    "    if l < n and arr[i] < arr[l]:\n",
    "        largest = l\n",
    " \n",
    "    if r < n and arr[largest] < arr[r]:\n",
    "        largest = r\n",
    " \n",
    "    # If root is not largest, swap with largest and continue heapifying\n",
    "    if largest != i:\n",
    "        arr[i],arr[largest] = arr[largest],arr[i]\n",
    "        heapify(arr, n, largest)\n",
    " \n",
    "def heapSort(arr):\n",
    "    n = len(arr)\n",
    " \n",
    "    # Build max heap\n",
    "    for i in range(n, 0, -1):\n",
    "        heapify(arr, n, i)\n",
    " \n",
    "    \n",
    "    for i in range(n-1, 0, -1):\n",
    "        # swap\n",
    "        arr[i], arr[0] = arr[0], arr[i]  \n",
    "        #heapify root element\n",
    "        heapify(arr, i, 0)\n",
    " \n",
    "arr = [ 12, 11, 13, 5, 6, 7]\n",
    "heapSort(arr)\n",
    "print (\"-----------------------\")\n",
    "n = len(arr)\n",
    "print (\"Sorted array is\")\n",
    "for i in range(n):\n",
    "    print (\"%d\" %arr[i])"
   ]
  },
  {
   "cell_type": "code",
   "execution_count": null,
   "metadata": {},
   "outputs": [],
   "source": []
  }
 ],
 "metadata": {
  "kernelspec": {
   "display_name": "Python 3",
   "language": "python",
   "name": "python3"
  },
  "language_info": {
   "codemirror_mode": {
    "name": "ipython",
    "version": 3
   },
   "file_extension": ".py",
   "mimetype": "text/x-python",
   "name": "python",
   "nbconvert_exporter": "python",
   "pygments_lexer": "ipython3",
   "version": "3.6.8"
  }
 },
 "nbformat": 4,
 "nbformat_minor": 2
}
