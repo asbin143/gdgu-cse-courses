{
 "cells": [
  {
   "cell_type": "code",
   "execution_count": 19,
   "metadata": {},
   "outputs": [],
   "source": [
    "# create a vertex class using adjecency list\n",
    "class Vertex:\n",
    "    def __init__(self, n):\n",
    "        self.name = n\n",
    "        self.neighbors = list()\n",
    "\n",
    "        self.distance = 9999\n",
    "        self.color = 'black'\n",
    "\n",
    "    def add_neighbor(self, v):\n",
    "        if v not in self.neighbors:\n",
    "            self.neighbors.append(v)\n",
    "            self.neighbors.sort()\n",
    "class Graph:\n",
    "    vertices = {}\n",
    "    \n",
    "    def add_vertex(self, vertex):\n",
    "        if isinstance(vertex, Vertex) and vertex.name not in self.vertices:\n",
    "            self.vertices[vertex.name] = vertex\n",
    "            return True\n",
    "        else:\n",
    "            return False\n",
    "        \n",
    "    def add_edge(self, u, v):\n",
    "        if u in self.vertices and v in self.vertices:\n",
    "            for key, value in self.vertices.items():\n",
    "                if key == u:\n",
    "                    value.add_neighbor(v)\n",
    "                if key == v:\n",
    "                    value.add_neighbor(u)\n",
    "            return True\n",
    "        else:\n",
    "            return False\n",
    "        \n",
    "    def print_graph(self):\n",
    "        for key in sorted(list(self.vertices.keys())):\n",
    "            print(key + str(self.vertices[key].neighbors) + \"  \" + str(self.vertices[key].distance))\n",
    "    \n",
    "    def bfs(self, vert):\n",
    "        q = list()\n",
    "        vert.distance = 0\n",
    "        vert.color = 'red'\n",
    "        for v in vert.neighbors:\n",
    "            self.vertices[v].distance = vert.distance + 1\n",
    "            q.append(v)\n",
    "        while len(q) > 0:\n",
    "            u = q.pop(0)\n",
    "            node_u = self.vertices[u]\n",
    "            node_u.color = 'red'\n",
    "\n",
    "            for v in node_u.neighbors:\n",
    "                node_v = self.vertices[v]\n",
    "                if node_v.color == 'black':\n",
    "                    q.append(v)\n",
    "                    if node_v.distance > node_u.distance + 1:\n",
    "                        node_v.distance = node_u.distance + 1        "
   ]
  },
  {
   "cell_type": "code",
   "execution_count": 60,
   "metadata": {
    "scrolled": true
   },
   "outputs": [
    {
     "name": "stdout",
     "output_type": "stream",
     "text": [
      "A['B', 'E']  0\n",
      "B['A', 'F']  1\n",
      "C['G']  4\n",
      "D['E', 'H']  2\n",
      "E['A', 'D', 'H']  1\n",
      "F['B', 'G', 'I', 'J']  1\n",
      "G['C', 'F', 'J']  1\n",
      "H['D', 'E', 'I']  2\n",
      "I['F', 'H']  3\n",
      "J['F', 'G']  0\n"
     ]
    }
   ],
   "source": [
    "''' Creating a Graph Object'''\n",
    "g = Graph()\n",
    "''' Creating a Vertex Object'''\n",
    "a = Vertex('A')\n",
    "# b = Vertex('B')\n",
    "# g.add_vertex(a)\n",
    "# g.add_vertex(b)\n",
    "# # no need to write same thing over and over again \n",
    "# g.add_vertex(Vertex('B'))\n",
    "'''Creating Vertex Objects and Pushing them to 1 Graph Object'''\n",
    "'''making 10 vertexs named A to J '''\n",
    "for i in range(ord('A'), ord('K')):\n",
    "    g.add_vertex(Vertex(chr(i)))\n",
    "    \n",
    "'''Creating Connections between Node/Vertices'''    \n",
    "edges = ['AB', 'AE', 'BF', 'CG', 'DE', 'DH', 'EH', 'FG', 'FI', 'FJ', 'GJ', 'HI']    \n",
    "for edge in edges:\n",
    "    g.add_edge(edge[:1], edge[1:])\n",
    "''' BFS with root node as 'J' '''\n",
    "g.bfs(g.vertices['J'])\n",
    "g.print_graph()\n"
   ]
  },
  {
   "cell_type": "code",
   "execution_count": 58,
   "metadata": {},
   "outputs": [
    {
     "data": {
      "text/html": [
       "<div id=\"graph-f4bb0094-e92c-457d-8ed8-4452ff9d201a\"></div>\n",
       "           <script type=\"text/javascript\">\n",
       "           require.config({baseUrl: '/',\n",
       "                             paths: {jgraph: ['nbextensions/jgraph.min', 'https://rawgit.com/patrickfuller/jgraph/master/js/build/jgraph.min']}});\n",
       "           require(['jgraph'], function () {\n",
       "               var $d = $('#graph-f4bb0094-e92c-457d-8ed8-4452ff9d201a');\n",
       "               $d.width(600); $d.height(400);\n",
       "               $d.jgraph = jQuery.extend({}, jgraph);\n",
       "               $d.jgraph.create($d, {nodeSize: 2.000000,\n",
       "                                     edgeSize: 0.250000,\n",
       "                                     defaultNodeColor: '0x5bc0de',\n",
       "                                     defaultEdgeColor: '0xaaaaaa',\n",
       "                                     shader: 'basic',\n",
       "                                     z: 100,\n",
       "                                     runOptimization: true,\n",
       "                                     directed: true,\n",
       "                                     showSave: false});\n",
       "               $d.jgraph.draw({\n",
       "    \"edges\": [\n",
       "        { \"source\": \"A\", \"target\": \"B\" }\n",
       "    ],\n",
       "    \"nodes\": {\n",
       "        \"A\": { \"color\": \"0xffaaaa\", \"size\": 2.0 },\n",
       "        \"B\": { \"size\": 0.5 },\n",
       "        \"C\": { \"color\": \"0x2222ff\", \"size\": 1.25 },\n",
       "        \"D\": { \"color\": \"0x22ff22\" },\n",
       "        \"E\": { \"color\": \"0x22ff22\" },\n",
       "        \"F\": { \"color\": \"0x22ff22\" },\n",
       "        \"G\": { \"color\": \"0x22ff22\" },\n",
       "        \"H\": { \"color\": \"0x22ff22\" }\n",
       "    }\n",
       "});\n",
       "\n",
       "               $d.resizable({\n",
       "                   aspectRatio: 600 / 400,\n",
       "                   resize: function (evt, ui) {\n",
       "                       $d.jgraph.renderer.setSize(ui.size.width,\n",
       "                                                  ui.size.height);\n",
       "                   }\n",
       "               });\n",
       "           });\n",
       "           </script>"
      ],
      "text/plain": [
       "<IPython.core.display.HTML object>"
      ]
     },
     "metadata": {},
     "output_type": "display_data"
    }
   ],
   "source": [
    "import jgraph\n",
    "g.vertices\n",
    "g.vertices.keys()\n",
    "g.vertices['A'].name\n",
    "\n",
    "graph = {\n",
    "    'nodes': {\n",
    "        'A': {'color': 0xffaaaa, 'size': 2.0},\n",
    "        'B': {'size': 0.5},\n",
    "        'C': {'color': 0x2222ff, 'size': 1.25},\n",
    "        'D': {'color': 0x22ff22},\n",
    "        'E': {'color': 0x22ff22},\n",
    "        'F': {'color': 0x22ff22},\n",
    "        'G': {'color': 0x22ff22},\n",
    "        'H': {'color': 0x22ff22},\n",
    "    },\n",
    "    'edges': [\n",
    "        {'source': 'A', 'target': 'B'}\n",
    "        \n",
    "    ]\n",
    "}\n",
    "\n",
    "\n",
    "\n",
    "jgraph.draw(graph)\n"
   ]
  },
  {
   "cell_type": "code",
   "execution_count": 59,
   "metadata": {},
   "outputs": [
    {
     "ename": "AttributeError",
     "evalue": "module 'networkx' has no attribute 'from_pandas_dataframe'",
     "output_type": "error",
     "traceback": [
      "\u001b[1;31m---------------------------------------------------------------------------\u001b[0m",
      "\u001b[1;31mAttributeError\u001b[0m                            Traceback (most recent call last)",
      "\u001b[1;32m<ipython-input-59-181cd3260fc6>\u001b[0m in \u001b[0;36m<module>\u001b[1;34m\u001b[0m\n\u001b[0;32m     10\u001b[0m \u001b[1;33m\u001b[0m\u001b[0m\n\u001b[0;32m     11\u001b[0m \u001b[1;31m# Build your graph\u001b[0m\u001b[1;33m\u001b[0m\u001b[1;33m\u001b[0m\u001b[1;33m\u001b[0m\u001b[0m\n\u001b[1;32m---> 12\u001b[1;33m \u001b[0mG\u001b[0m\u001b[1;33m=\u001b[0m\u001b[0mnx\u001b[0m\u001b[1;33m.\u001b[0m\u001b[0mfrom_pandas_dataframe\u001b[0m\u001b[1;33m(\u001b[0m\u001b[0mdf\u001b[0m\u001b[1;33m,\u001b[0m \u001b[1;34m'from'\u001b[0m\u001b[1;33m,\u001b[0m \u001b[1;34m'to'\u001b[0m\u001b[1;33m)\u001b[0m\u001b[1;33m\u001b[0m\u001b[1;33m\u001b[0m\u001b[0m\n\u001b[0m\u001b[0;32m     13\u001b[0m \u001b[1;33m\u001b[0m\u001b[0m\n\u001b[0;32m     14\u001b[0m \u001b[1;31m# All together we can do something fancy\u001b[0m\u001b[1;33m\u001b[0m\u001b[1;33m\u001b[0m\u001b[1;33m\u001b[0m\u001b[0m\n",
      "\u001b[1;31mAttributeError\u001b[0m: module 'networkx' has no attribute 'from_pandas_dataframe'"
     ]
    }
   ],
   "source": [
    "# libraries\n",
    "import pandas as pd\n",
    "import numpy as np\n",
    "import networkx as nx\n",
    "import matplotlib.pyplot as plt\n",
    " \n",
    "# Build a dataframe with your connections\n",
    "df = pd.DataFrame({ 'from':['A', 'B', 'C','A'], 'to':['D', 'A', 'E','C']})\n",
    "df\n",
    " \n",
    "# Build your graph\n",
    "G=nx.from_pandas_dataframe(df, 'from', 'to')\n",
    " \n",
    "# All together we can do something fancy\n",
    "nx.draw(G, with_labels=True, node_size=1500, node_color=\"skyblue\", node_shape=\"o\", alpha=0.5, linewidths=4, font_size=25, font_color=\"grey\", font_weight=\"bold\", width=2, edge_color=\"grey\")"
   ]
  }
 ],
 "metadata": {
  "kernelspec": {
   "display_name": "Python 3",
   "language": "python",
   "name": "python3"
  },
  "language_info": {
   "codemirror_mode": {
    "name": "ipython",
    "version": 3
   },
   "file_extension": ".py",
   "mimetype": "text/x-python",
   "name": "python",
   "nbconvert_exporter": "python",
   "pygments_lexer": "ipython3",
   "version": "3.6.8"
  }
 },
 "nbformat": 4,
 "nbformat_minor": 2
}
