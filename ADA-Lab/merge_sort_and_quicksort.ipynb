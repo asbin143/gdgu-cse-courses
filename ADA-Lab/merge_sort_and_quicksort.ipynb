{
 "cells": [
  {
   "cell_type": "code",
   "execution_count": 10,
   "metadata": {
    "scrolled": true
   },
   "outputs": [
    {
     "name": "stdout",
     "output_type": "stream",
     "text": [
      "Splitting  [14, 3, 4]\n",
      "Splitting  [14]\n",
      "Merging  [14]\n",
      "Splitting  [3, 4]\n",
      "Splitting  [3]\n",
      "Merging  [3]\n",
      "Splitting  [4]\n",
      "Merging  [4]\n",
      "Merging  [3, 4]\n",
      "Merging  [3, 4, 14]\n",
      "[3, 4, 14]\n"
     ]
    }
   ],
   "source": [
    "def mergeSort(nlist):\n",
    "    print(\"Splitting \",nlist)\n",
    "    '''More than 1 so only one element does not loop \n",
    "    Becoming  Best Case\n",
    "    '''\n",
    "    if len(nlist)>1:\n",
    "        '''Finding Middle Element'''\n",
    "        mid = len(nlist)//2\n",
    "        '''Splitting List into left and right lists'''\n",
    "        lefthalf = nlist[:mid]\n",
    "        righthalf = nlist[mid:]\n",
    "        '''Calling merge sort on left and right half'''\n",
    "        mergeSort(lefthalf)\n",
    "        mergeSort(righthalf)\n",
    "        '''Setting helping interation vars'''\n",
    "        i=j=k=0       \n",
    "        \n",
    "        while i < len(lefthalf) and j < len(righthalf):\n",
    "            '''Comparing First Elements of left and rigth list/array'''\n",
    "            if lefthalf[i] < righthalf[j]:\n",
    "                '''k = iter for main list '''\n",
    "                nlist[k]=lefthalf[i]\n",
    "                '''increment iter'''\n",
    "                i=i+1\n",
    "            else:\n",
    "                nlist[k]=righthalf[j]\n",
    "                '''increment inter'''\n",
    "                j=j+1\n",
    "            '''Move to the next slot'''\n",
    "            k=k+1\n",
    "        \n",
    "        while i < len(lefthalf):\n",
    "            nlist[k]=lefthalf[i]\n",
    "            i=i+1\n",
    "            k=k+1\n",
    "\n",
    "        while j < len(righthalf):\n",
    "            nlist[k]=righthalf[j]\n",
    "            j=j+1\n",
    "            k=k+1\n",
    "    print(\"Merging \",nlist)\n",
    "\n",
    "nlist = [14,3,4]\n",
    "mergeSort(nlist)\n",
    "print(nlist)"
   ]
  },
  {
   "cell_type": "code",
   "execution_count": 16,
   "metadata": {},
   "outputs": [
    {
     "name": "stdout",
     "output_type": "stream",
     "text": [
      "Enter the list of numbers: 23 23 23 23545 45\n",
      "Sorted list: [23, 23, 23, 45, 23545]\n"
     ]
    }
   ],
   "source": [
    "def quicksort(alist, start, end):\n",
    "    '''Sorts the list from indexes start to end - 1 inclusive.'''\n",
    "    if end - start > 1:\n",
    "        p = partition(alist, start, end)\n",
    "        quicksort(alist, start, p)\n",
    "        quicksort(alist, p + 1, end)\n",
    " \n",
    " \n",
    "def partition(alist, start, end):\n",
    "    pivot = alist[start]\n",
    "    i = start + 1\n",
    "    j = end - 1\n",
    " \n",
    "    while True:\n",
    "        while (i <= j and alist[i] <= pivot):\n",
    "            i = i + 1\n",
    "        while (i <= j and alist[j] >= pivot):\n",
    "            j = j - 1\n",
    " \n",
    "        if i <= j:\n",
    "            alist[i], alist[j] = alist[j], alist[i]\n",
    "        else:\n",
    "            alist[start], alist[j] = alist[j], alist[start]\n",
    "            return j\n",
    " \n",
    " \n",
    "alist = input('Enter the list of numbers: ').split()\n",
    "alist = [int(x) for x in alist]\n",
    "quicksort(alist, 0, len(alist))\n",
    "print('Sorted list: ', end='')\n",
    "print(alist)"
   ]
  },
  {
   "cell_type": "code",
   "execution_count": 8,
   "metadata": {},
   "outputs": [
    {
     "name": "stdout",
     "output_type": "stream",
     "text": [
      "[17, 20, 26, 31, 44, 54, 55, 77, 93]\n"
     ]
    }
   ],
   "source": [
    "# def mergeSort(List):\n",
    "#     if len(List) > 1:\n",
    "#         mid = len(List) // 2\n",
    "#         left = List[:mid]\n",
    "#         right = List[mid:]\n",
    "\n",
    "#         # Recursive call on each half\n",
    "#         mergeSort(left)\n",
    "#         mergeSort(right)\n",
    "\n",
    "#         # Two iterators for traversing the two halves\n",
    "#         i = 0\n",
    "#         j = 0\n",
    "        \n",
    "#         # Iterator for the main list\n",
    "#         k = 0\n",
    "        \n",
    "#         while i < len(left) and j < len(right):\n",
    "#             if left[i] < right[j]:\n",
    "#               # The value from the left half has been used\n",
    "#               List[k] = left[i]\n",
    "#               # Move the iterator forward\n",
    "#               i += 1\n",
    "#             else:\n",
    "#                 List[k] = right[j]\n",
    "#                 j += 1\n",
    "#             # Move to the next slot\n",
    "#             k += 1\n",
    "\n",
    "#         # For all the remaining values\n",
    "#         while i < len(left):\n",
    "#             List[k] = left[i]\n",
    "#             i += 1\n",
    "#             k += 1\n",
    "\n",
    "#         while j < len(right):\n",
    "#             List[k]=right[j]\n",
    "#             j += 1\n",
    "#             k += 1\n",
    "\n",
    "# List = [54,26,93,17,77,31,44,55,20]\n",
    "# mergeSort(myList)\n",
    "# print(myList)"
   ]
  }
 ],
 "metadata": {
  "kernelspec": {
   "display_name": "Python 3",
   "language": "python",
   "name": "python3"
  },
  "language_info": {
   "codemirror_mode": {
    "name": "ipython",
    "version": 3
   },
   "file_extension": ".py",
   "mimetype": "text/x-python",
   "name": "python",
   "nbconvert_exporter": "python",
   "pygments_lexer": "ipython3",
   "version": "3.6.8"
  }
 },
 "nbformat": 4,
 "nbformat_minor": 2
}
